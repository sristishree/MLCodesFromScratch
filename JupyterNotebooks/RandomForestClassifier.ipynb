{
 "cells": [
  {
   "cell_type": "markdown",
   "metadata": {},
   "source": [
    "## Code for Decision Tree Classifier Code from scratch\n",
    "\n",
    "Code for decision tree classifier using CART algorithm"
   ]
  },
  {
   "cell_type": "code",
   "execution_count": 1,
   "metadata": {},
   "outputs": [],
   "source": [
    "import pandas as pd\n",
    "import numpy as np"
   ]
  },
  {
   "cell_type": "code",
   "execution_count": 2,
   "metadata": {},
   "outputs": [],
   "source": [
    "# Node class\n",
    "\n",
    "class Node():\n",
    "    def __init__(self, feature_key = None, feature_threshold = None, left_child = None, right_child = None, information_gain = None, value = None):\n",
    "        '''\n",
    "        Constructor\n",
    "        '''\n",
    "        \n",
    "        # For decision node\n",
    "        self.feature_key = feature_key\n",
    "        self.feature_threshold = feature_threshold\n",
    "        self.left_child = left_child\n",
    "        self.right_child = right_child\n",
    "        self.information_gain = information_gain\n",
    "        \n",
    "        # For leaf node\n",
    "        self.value = value"
   ]
  },
  {
   "cell_type": "code",
   "execution_count": 3,
   "metadata": {},
   "outputs": [],
   "source": [
    "class TreeClassifier():\n",
    "    def __init__(self, minimum_samples_split = 2, max_depth = 2):\n",
    "        '''\n",
    "        Constructor\n",
    "        '''\n",
    "        self.root = None\n",
    "        \n",
    "        # Stopping conditions\n",
    "        self.minimum_samples_split = minimum_samples_split\n",
    "        self.max_depth = max_depth\n",
    "        \n",
    "    def build_tree(self, dataset, cur_depth = 0):\n",
    "        '''\n",
    "        Function to build the decision tree recursively\n",
    "        '''\n",
    "        \n",
    "        X = dataset[:,:-1]\n",
    "        y = dataset[:,-1]\n",
    "        num_samples, num_features = X.shape\n",
    "        \n",
    "        # Check for stopping conditions\n",
    "        if num_samples >= self.minimum_samples_split and cur_depth <= self.max_depth:\n",
    "             # Find the best split\n",
    "             best_split = self.get_best_split(dataset, num_samples, num_features)\n",
    "             # Check if information gain is positive, information gain is 0 for pure split\n",
    "             if best_split['information_gain'] > 0:\n",
    "                 # Form the left subtree using recursion\n",
    "                 left_subtree = self.build_tree(best_split['dataset_left'], cur_depth+1)\n",
    "                 # Form the right subtree using recursion\n",
    "                 right_subtree = self.build_tree(best_split['dataset_right'], cur_depth+1)\n",
    "                 # Return the node on which the current decsion has been made\n",
    "                 return Node(best_split['feature_key'], best_split['feature_threshold'], left_subtree, right_subtree, best_split['information_gain'])\n",
    "                 \n",
    "        # Compute leaf node\n",
    "        leaf_value = self.calculate_leaf_value(y)\n",
    "        # Return the leaf node\n",
    "        return Node(value = leaf_value)\n",
    "    \n",
    "    def get_best_split(self, dataset, num_samples, num_features):\n",
    "        '''\n",
    "        Function to find the best split based on information gain\n",
    "        '''\n",
    "        \n",
    "        # Dictionary to store the best split result\n",
    "        best_split = {}\n",
    "        \n",
    "        max_info_gain = -float('inf')\n",
    "        \n",
    "        # Loop over all features\n",
    "        for feature_index in range(num_features):\n",
    "            # feature_values =  dataset[:][feature_index]\n",
    "            feature_values =  dataset[:,feature_index]\n",
    "            # Possible values of thresholds\n",
    "            # Could be infinite possible values on the real scale in our range, \n",
    "            # but we will take only the ones which are present in the feature set \n",
    "            thresholds_possible_values = np.unique(feature_values)\n",
    "            # Loop over all possible threshold values present for that feature    \n",
    "            for threshold in thresholds_possible_values:\n",
    "                # Split the data on given threshold\n",
    "                dataset_left, dataset_right = self.split(dataset, feature_index, threshold)\n",
    "                # Check if children have size greater than 0\n",
    "                if len(dataset_left) > 0 and len(dataset_right) > 0:\n",
    "                    # Extract target values\n",
    "                    y, y_left, y_right = dataset[:,-1], dataset_left[:,-1], dataset_right[:,-1]\n",
    "                    # Compute information gain\n",
    "                    cur_information_gain = self.information_gain(y, y_left, y_right, \"gini\")\n",
    "                    # Compare with the max information gain\n",
    "                    if cur_information_gain > max_info_gain:\n",
    "                        best_split['dataset_left'] = dataset_left\n",
    "                        best_split['dataset_right'] = dataset_right\n",
    "                        best_split['feature_key'] = feature_index\n",
    "                        best_split['feature_threshold'] = threshold\n",
    "                        best_split['information_gain'] = cur_information_gain\n",
    "                        max_info_gain = cur_information_gain\n",
    "                        \n",
    "        return best_split\n",
    "    \n",
    "    def split(self, dataset, feature_index, threshold):\n",
    "        '''\n",
    "        Function to split the dataset into left and right according to the threshold value\n",
    "        '''\n",
    "        #dataset_left = dataset[dataset[:,feature_index] <= threshold]\n",
    "        #dataset_right = dataset[dataset[:,feature_index] > threshold]\n",
    "        dataset_left = np.array([row for row in dataset if row[feature_index] <= threshold])\n",
    "        dataset_right = np.array([row for row in dataset if row[feature_index] > threshold])\n",
    "        \n",
    "        return dataset_left, dataset_right\n",
    "    \n",
    "    def information_gain(self, y, y_left, y_right, mode='entropy'):\n",
    "        '''\n",
    "        Function to calculate information gain using gini or entropy\n",
    "        '''\n",
    "        weight_l = len(y_left) / len(y)\n",
    "        weight_r = len(y_right) / len(y)\n",
    "        \n",
    "        if mode == \"gini\":\n",
    "            return self.gini_impurity(y) - ( weight_l*self.gini_impurity(y_left) + weight_r*self.gini_impurity(y_right))\n",
    "        else:\n",
    "            return self.entropy(y) - ( weight_l*self.entropy(y_left) + weight_r*self.entropy(y_right))\n",
    "        \n",
    "    def entropy(self, y):\n",
    "        class_labels = np.unique(y)\n",
    "        ent = 0\n",
    "        \n",
    "        for label in class_labels:\n",
    "            p_class = len(y[y == label]) / len(y)\n",
    "            ent += -p_class * np.log2(p_class)\n",
    "            \n",
    "        return ent\n",
    "        \n",
    "    def gini_impurity(self, y):\n",
    "        class_labels = np.unique(y)\n",
    "        gini = 0\n",
    "        \n",
    "        for label in class_labels:\n",
    "            p_class = len(y[y == label]) / len(y)\n",
    "            gini += p_class ** 2\n",
    "            \n",
    "        return 1-gini\n",
    "        \n",
    "    def calculate_leaf_value(self, y):\n",
    "        '''\n",
    "        Function to compute the leaf node on the basis of max occurring element in target\n",
    "        '''\n",
    "        Y = list(y)\n",
    "        return max(Y, key = Y.count)\n",
    "    \n",
    "    def fit(self, X, y):\n",
    "        '''\n",
    "        Function to train the model\n",
    "        '''\n",
    "        \n",
    "        dataset = X\n",
    "        dataset['y'] = y\n",
    "        dataset = np.array(dataset)\n",
    "        self.root = self.build_tree(dataset)\n",
    "        \n",
    "    def predict(self, X):\n",
    "        '''\n",
    "        Function to predict on the basis of the trained model\n",
    "        '''\n",
    "        X = np.array(X)\n",
    "        predictions = [self.make_prediction(x, self.root) for x in X]\n",
    "        return predictions\n",
    "    \n",
    "    def make_prediction(self, x, tree):\n",
    "        '''\n",
    "        Function to predict a single data point\n",
    "        '''\n",
    "        # If you encounter the leaf node, that will be the prediction\n",
    "        if tree.value is not None:\n",
    "            return tree.value\n",
    "        # Else recursively try to reach the leaf\n",
    "        else:\n",
    "            if x[tree.feature_key] <= tree.feature_threshold:\n",
    "                return self.make_prediction(x, tree.left_child)\n",
    "            else:\n",
    "                return self.make_prediction(x, tree.right_child)\n",
    "        \n",
    "    def print_tree(self, tree=None, spacing=3, depth=1):\n",
    "        '''\n",
    "        Function to print the tree\n",
    "        '''\n",
    "        if spacing <=0:\n",
    "            raise ValueError(\"Spacing must be a positive integer\")\n",
    "        \n",
    "        indent = (\"|\" + (\" \" * spacing)) * depth\n",
    "        indent = indent[:-spacing] + \"-\" * spacing\n",
    "        \n",
    "        if not tree:\n",
    "            tree = self.root\n",
    "        \n",
    "        if tree.value is not None:\n",
    "            print(tree.value)\n",
    "            \n",
    "        else:\n",
    "            print(f'\\n{indent} Feature {tree.feature_key}  <= {tree.feature_threshold} ? Information gain is {tree.information_gain}')\n",
    "            print(f'{indent} Left: ', end='')\n",
    "            self.print_tree(tree.left_child, 3, depth+1)\n",
    "            print(f'{indent} Right: ', end='')\n",
    "            self.print_tree(tree.right_child, 3, depth+1)\n",
    "            "
   ]
  },
  {
   "cell_type": "code",
   "execution_count": 4,
   "metadata": {},
   "outputs": [],
   "source": [
    "# Get the data\n",
    "from sklearn.datasets import load_iris\n",
    "data = load_iris(return_X_y = True, as_frame = True)"
   ]
  },
  {
   "cell_type": "code",
   "execution_count": 5,
   "metadata": {},
   "outputs": [],
   "source": [
    "# Train test split\n",
    "            \n",
    "X = data[0]\n",
    "y = data[1]\n",
    "\n",
    "from sklearn.model_selection import train_test_split\n",
    "X_train, X_test, y_train, y_test = train_test_split(X, y, test_size = 0.2, random_state = 41)"
   ]
  },
  {
   "cell_type": "code",
   "execution_count": 6,
   "metadata": {},
   "outputs": [
    {
     "name": "stdout",
     "output_type": "stream",
     "text": [
      "\n",
      "|--- Feature 2  <= 1.9 ? Information gain is 0.33741385372714494\n",
      "|--- Left: 0.0\n",
      "|--- Right: \n",
      "|   |--- Feature 3  <= 1.5 ? Information gain is 0.427106638180289\n",
      "|   |--- Left: \n",
      "|   |   |--- Feature 2  <= 4.9 ? Information gain is 0.05124653739612173\n",
      "|   |   |--- Left: 1.0\n",
      "|   |   |--- Right: 2.0\n",
      "|   |--- Right: \n",
      "|   |   |--- Feature 2  <= 5.0 ? Information gain is 0.019631171921475288\n",
      "|   |   |--- Left: \n",
      "|   |   |   |--- Feature 1  <= 2.8 ? Information gain is 0.20833333333333334\n",
      "|   |   |   |--- Left: 2.0\n",
      "|   |   |   |--- Right: 1.0\n",
      "|   |   |--- Right: 2.0\n"
     ]
    },
    {
     "name": "stderr",
     "output_type": "stream",
     "text": [
      "<ipython-input-3-dc526ff1c8cc>:134: SettingWithCopyWarning: \n",
      "A value is trying to be set on a copy of a slice from a DataFrame.\n",
      "Try using .loc[row_indexer,col_indexer] = value instead\n",
      "\n",
      "See the caveats in the documentation: https://pandas.pydata.org/pandas-docs/stable/user_guide/indexing.html#returning-a-view-versus-a-copy\n",
      "  dataset['y'] = y\n"
     ]
    }
   ],
   "source": [
    "# Fit the model\n",
    "\n",
    "classifier = TreeClassifier(minimum_samples_split=3, max_depth=3)\n",
    "classifier.fit(X_train, y_train)\n",
    "classifier.print_tree()\n"
   ]
  },
  {
   "cell_type": "code",
   "execution_count": 8,
   "metadata": {},
   "outputs": [
    {
     "name": "stdout",
     "output_type": "stream",
     "text": [
      "0.9333333333333333\n"
     ]
    }
   ],
   "source": [
    "# Make prediction\n",
    "\n",
    "y_pred = classifier.predict(X_test)\n",
    "from sklearn.metrics import accuracy_score\n",
    "print(accuracy_score(y_test, y_pred))"
   ]
  },
  {
   "cell_type": "code",
   "execution_count": 9,
   "metadata": {},
   "outputs": [
    {
     "name": "stdout",
     "output_type": "stream",
     "text": [
      "\n",
      "|--- Feature 2  <= 1.9 ? Information gain is 0.33741385372714494\n",
      "|--- Left: 0.0\n",
      "|--- Right: \n",
      "|   |--- Feature 3  <= 1.5 ? Information gain is 0.427106638180289\n",
      "|   |--- Left: \n",
      "|   |   |--- Feature 2  <= 4.9 ? Information gain is 0.05124653739612173\n",
      "|   |   |--- Left: 1.0\n",
      "|   |   |--- Right: 2.0\n",
      "|   |--- Right: \n",
      "|   |   |--- Feature 2  <= 5.0 ? Information gain is 0.019631171921475288\n",
      "|   |   |--- Left: \n",
      "|   |   |   |--- Feature 1  <= 2.8 ? Information gain is 0.20833333333333334\n",
      "|   |   |   |--- Left: 2.0\n",
      "|   |   |   |--- Right: \n",
      "|   |   |   |   |--- Feature 0  <= 5.9 ? Information gain is 0.1111111111111111\n",
      "|   |   |   |   |--- Left: 1.0\n",
      "|   |   |   |   |--- Right: \n",
      "|   |   |   |   |   |--- Feature 0  <= 6.0 ? Information gain is 0.5\n",
      "|   |   |   |   |   |--- Left: 2.0\n",
      "|   |   |   |   |   |--- Right: 1.0\n",
      "|   |   |--- Right: 2.0\n"
     ]
    },
    {
     "name": "stderr",
     "output_type": "stream",
     "text": [
      "<ipython-input-3-dc526ff1c8cc>:134: SettingWithCopyWarning: \n",
      "A value is trying to be set on a copy of a slice from a DataFrame.\n",
      "Try using .loc[row_indexer,col_indexer] = value instead\n",
      "\n",
      "See the caveats in the documentation: https://pandas.pydata.org/pandas-docs/stable/user_guide/indexing.html#returning-a-view-versus-a-copy\n",
      "  dataset['y'] = y\n"
     ]
    }
   ],
   "source": [
    "# Fit the model\n",
    "\n",
    "classifier2 = TreeClassifier(minimum_samples_split=2, max_depth=6)\n",
    "classifier2.fit(X_train, y_train)\n",
    "classifier2.print_tree()\n"
   ]
  },
  {
   "cell_type": "code",
   "execution_count": 10,
   "metadata": {},
   "outputs": [
    {
     "name": "stdout",
     "output_type": "stream",
     "text": [
      "0.9\n"
     ]
    }
   ],
   "source": [
    "# Make prediction\n",
    "\n",
    "y_pred = classifier2.predict(X_test)\n",
    "from sklearn.metrics import accuracy_score\n",
    "print(accuracy_score(y_test, y_pred))"
   ]
  },
  {
   "cell_type": "code",
   "execution_count": null,
   "metadata": {},
   "outputs": [],
   "source": []
  }
 ],
 "metadata": {
  "kernelspec": {
   "display_name": "Python 3",
   "language": "python",
   "name": "python3"
  },
  "language_info": {
   "codemirror_mode": {
    "name": "ipython",
    "version": 3
   },
   "file_extension": ".py",
   "mimetype": "text/x-python",
   "name": "python",
   "nbconvert_exporter": "python",
   "pygments_lexer": "ipython3",
   "version": "3.8.10"
  }
 },
 "nbformat": 4,
 "nbformat_minor": 4
}
